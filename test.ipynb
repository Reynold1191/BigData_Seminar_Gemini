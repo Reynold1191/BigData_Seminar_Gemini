{
 "cells": [
  {
   "cell_type": "code",
   "execution_count": 24,
   "metadata": {},
   "outputs": [],
   "source": [
    "import scape_comments as sc"
   ]
  },
  {
   "cell_type": "code",
   "execution_count": 29,
   "metadata": {},
   "outputs": [],
   "source": [
    "id = sc.get_post_id(\"https://www.facebook.com/losangeleslakers/posts/pfbid0GxxmcRHjyM5QSH2KbebRjzY14agCeAmcqMJQGh3ZHG8YrDWQvu1uMGsdsfj2WUBkl\")\n",
    "df = sc.scrape_comments(id, 1)"
   ]
  },
  {
   "cell_type": "code",
   "execution_count": 4,
   "metadata": {},
   "outputs": [
    {
     "name": "stdout",
     "output_type": "stream",
     "text": [
      "Post ID:  pfbid02NcowKc71WQvEaoirbQDH5VifVg4E1NY8uHDraAMxQU3jpFkvw2i4BuBNbR841tYil\n"
     ]
    }
   ],
   "source": [
    "if id:\n",
    "    print(\"Post ID: \", id)"
   ]
  },
  {
   "cell_type": "code",
   "execution_count": 26,
   "metadata": {},
   "outputs": [],
   "source": [
    "data = '\\n'.join(df['comment_text'])\n"
   ]
  },
  {
   "cell_type": "code",
   "execution_count": 30,
   "metadata": {},
   "outputs": [
    {
     "data": {
      "text/plain": [
       "comment_id                30\n",
       "comment_url               30\n",
       "commenter_id              30\n",
       "commenter_url              0\n",
       "commenter_name            30\n",
       "commenter_meta             0\n",
       "comment_text              30\n",
       "comment_time              13\n",
       "comment_image              2\n",
       "comment_reactors          30\n",
       "comment_reactions          0\n",
       "comment_reaction_count     0\n",
       "replies                   30\n",
       "dtype: int64"
      ]
     },
     "execution_count": 30,
     "metadata": {},
     "output_type": "execute_result"
    }
   ],
   "source": [
    "df.count()"
   ]
  }
 ],
 "metadata": {
  "kernelspec": {
   "display_name": ".venv",
   "language": "python",
   "name": "python3"
  },
  "language_info": {
   "codemirror_mode": {
    "name": "ipython",
    "version": 3
   },
   "file_extension": ".py",
   "mimetype": "text/x-python",
   "name": "python",
   "nbconvert_exporter": "python",
   "pygments_lexer": "ipython3",
   "version": "3.12.4"
  }
 },
 "nbformat": 4,
 "nbformat_minor": 2
}
