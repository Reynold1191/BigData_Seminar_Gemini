{
 "cells": [
  {
   "cell_type": "code",
   "execution_count": 2,
   "metadata": {},
   "outputs": [
    {
     "name": "stdout",
     "output_type": "stream",
     "text": [
      "{'kind': 'youtube#videoListResponse', 'etag': 'qBsHGXqxrrfUqcDoQkwT0pAI38w', 'items': [{'kind': 'youtube#video', 'etag': 'zojceFGO5XQmFfMGRvREj6c6-lU', 'id': 'nAfbAeYxpvA', 'liveStreamingDetails': {'actualStartTime': '2024-08-11T15:04:23Z', 'concurrentViewers': '5266', 'activeLiveChatId': 'Cg0KC25BZmJBZVl4cHZBKicKGFVDaFJlcGU1RVNrRjdXdEo1WWx1QjIyZxILbkFmYkFlWXhwdkE'}}], 'pageInfo': {'totalResults': 1, 'resultsPerPage': 1}}\n"
     ]
    },
    {
     "data": {
      "text/plain": [
       "['.......',\n",
       " '@Ross check lại mạng xem',\n",
       " 'quyền công dân đây r',\n",
       " 'tuyệt',\n",
       " '=))',\n",
       " 'hay',\n",
       " 'chữ xanh time',\n",
       " 'được yên bình xem strim r',\n",
       " 'Donate cho mình qua https://wescan.vn/bomman Paypal https://streamlabs.com/bomman10 Playerduo https://playerduo.net/bomman Bank VPBank 189099991',\n",
       " ':_nemdep:',\n",
       " 'Xd',\n",
       " 'yeah',\n",
       " ':_mumat:',\n",
       " ':>>',\n",
       " ':_rage::_rage::_rage::_rage::_rage::_rage:',\n",
       " 'quá đã',\n",
       " 'đây r',\n",
       " ':_devl:',\n",
       " 'XD',\n",
       " 'yes sirrrr']"
      ]
     },
     "execution_count": 2,
     "metadata": {},
     "output_type": "execute_result"
    }
   ],
   "source": [
    "import fetcher\n",
    "\n",
    "fetcher.get_ytb_livestream_comments(\"nAfbAeYxpvA\", 20)"
   ]
  }
 ],
 "metadata": {
  "kernelspec": {
   "display_name": ".venv",
   "language": "python",
   "name": "python3"
  },
  "language_info": {
   "codemirror_mode": {
    "name": "ipython",
    "version": 3
   },
   "file_extension": ".py",
   "mimetype": "text/x-python",
   "name": "python",
   "nbconvert_exporter": "python",
   "pygments_lexer": "ipython3",
   "version": "3.12.4"
  }
 },
 "nbformat": 4,
 "nbformat_minor": 2
}
