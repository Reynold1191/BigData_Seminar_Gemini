{
 "cells": [
  {
   "cell_type": "code",
   "execution_count": 2,
   "metadata": {},
   "outputs": [
    {
     "name": "stdout",
     "output_type": "stream",
     "text": [
      "Name: openai\n",
      "Version: 0.28.0\n",
      "Summary: Python client library for the OpenAI API\n",
      "Home-page: https://github.com/openai/openai-python\n",
      "Author: OpenAI\n",
      "Author-email: support@openai.com\n",
      "License: \n",
      "Location: C:\\Users\\tttoa\\AppData\\Local\\Packages\\PythonSoftwareFoundation.Python.3.11_qbz5n2kfra8p0\\LocalCache\\local-packages\\Python311\\site-packages\n",
      "Requires: aiohttp, requests, tqdm\n",
      "Required-by: gpt-index, llama-index, revChatGPT\n"
     ]
    }
   ],
   "source": [
    "!pip show openai"
   ]
  },
  {
   "cell_type": "code",
   "execution_count": 1,
   "metadata": {},
   "outputs": [
    {
     "name": "stdout",
     "output_type": "stream",
     "text": [
      "Running on local URL:  http://127.0.0.1:7860\n",
      "\n",
      "To create a public link, set `share=True` in `launch()`.\n"
     ]
    },
    {
     "data": {
      "text/html": [
       "<div><iframe src=\"http://127.0.0.1:7860/\" width=\"100%\" height=\"500\" allow=\"autoplay; camera; microphone; clipboard-read; clipboard-write;\" frameborder=\"0\" allowfullscreen></iframe></div>"
      ],
      "text/plain": [
       "<IPython.core.display.HTML object>"
      ]
     },
     "metadata": {},
     "output_type": "display_data"
    },
    {
     "data": {
      "text/plain": []
     },
     "execution_count": 1,
     "metadata": {},
     "output_type": "execute_result"
    },
    {
     "name": "stdout",
     "output_type": "stream",
     "text": [
      "IMPORTANT: You are using gradio version 4.21.0, however version 4.29.0 is available, please upgrade.\n",
      "--------\n",
      "IMPORTANT: You are using gradio version 4.21.0, however version 4.29.0 is available, please upgrade.\n",
      "--------\n"
     ]
    }
   ],
   "source": [
    "\n",
    "# from flask import Flask, jsonify, render_template, request, session\n",
    "import gradio as gr\n",
    "from openai import OpenAI\n",
    "\n",
    "# Thay thế 'your-api-key' bằng khóa API của bạn từ OpenAI\n",
    "\n",
    "client = OpenAI(api_key=\"\")\n",
    "\n",
    "\n",
    "# app = Flask(__name__)\n",
    "\n",
    "def format_message(role, content):\n",
    "    return {\"role\": role, \"content\": content}\n",
    "\n",
    "\n",
    "def get_response(messages):\n",
    "    completion = client.chat.completions.create(\n",
    "        model=\"gpt-3.5-turbo\",\n",
    "        messages=messages,\n",
    "    )\n",
    "    content = completion.choices[0].message.content\n",
    "    return content\n",
    "\n",
    "user_inputs = [\n",
    "    \"I already know this\",\n",
    "    \"I love this\",\n",
    "    \"The food at this restaurant was out of this world!\",\n",
    "    \"Vô dụng vl\",\n",
    "    \"Cảm ơn bạn nhiều nhá\",\n",
    "    \"Bạn có thêm nói rõ hơn được không\",\n",
    "    \"Cái này mình biết trước rồi\"\n",
    "]\n",
    "\n",
    "class_inst = f\"\"\"\n",
    "Your task is to classify the comment into one of the following categories:\n",
    "Positive, Negative\n",
    "\n",
    "Positive comments are:\n",
    "- comments provide useful information \n",
    "\n",
    "Negative comments are:\n",
    "- when the comments offend any individual in some types of way\n",
    "- comments express negative attitude\n",
    "\n",
    "\n",
    "\"\"\"\n",
    "responses = []\n",
    "\n",
    "# for user_input in user_inputs:\n",
    "#     messages = [format_message(\"system\", class_inst),\n",
    "#                 format_message(\"user\", user_input)]\n",
    "#     response = get_response(messages)\n",
    "#     responses.append(response)\n",
    "#     print(user_input)\n",
    "#     print(response)\n",
    "\n",
    "script = \"\"\"\n",
    "function createGradioWelcome() {\n",
    "    // Create a container div\n",
    "    var container = document.createElement('div');\n",
    "    container.id = 'gradio-welcome';\n",
    "    \n",
    "    // Set styles for the container\n",
    "    container.style.fontSize = '2em';\n",
    "    container.style.fontWeight = 'bold';\n",
    "    container.style.textAlign = 'center';\n",
    "    container.style.marginBottom = '20px';\n",
    "    \n",
    "    // Create a div for the welcome text\n",
    "    var welcomeText = document.createElement('div');\n",
    "    welcomeText.innerText = \"Comment Classification\";\n",
    "    \n",
    "    // Append the welcome text to the container\n",
    "    container.appendChild(welcomeText);\n",
    "    \n",
    "    // Find the Gradio container and insert the welcome message at the top\n",
    "    var gradioContainer = document.querySelector('.gradio-container');\n",
    "    gradioContainer.insertBefore(container, gradioContainer.firstChild);\n",
    "    \n",
    "    return 'Welcome message displayed';\n",
    "}\n",
    "\n",
    "\n",
    "\"\"\"\n",
    "\n",
    "def classification(text):\n",
    "    messages = [format_message(\"system\", class_inst),\n",
    "                format_message(\"user\", text)]\n",
    "    response = get_response(messages)\n",
    "    return response\n",
    "\n",
    "\n",
    "with gr.Blocks(theme='JohnSmith9982/small_and_pretty', js = script) as demo:\n",
    "    gr.Interface(\n",
    "    classification,\n",
    "    inputs=[gr.Textbox(label=\"Enter your text\", lines=3)],\n",
    "    outputs=[gr.Textbox(label=\"Classification\", lines=3)],\n",
    "    allow_flagging=\"never\",\n",
    "    )\n",
    "\n",
    "demo.launch()\n"
   ]
  },
  {
   "cell_type": "code",
   "execution_count": 25,
   "metadata": {},
   "outputs": [
    {
     "name": "stdout",
     "output_type": "stream",
     "text": [
      " * Serving Flask app '__main__'\n",
      " * Debug mode: on\n"
     ]
    },
    {
     "name": "stderr",
     "output_type": "stream",
     "text": [
      "WARNING: This is a development server. Do not use it in a production deployment. Use a production WSGI server instead.\n",
      " * Running on http://127.0.0.1:5000\n",
      "Press CTRL+C to quit\n",
      " * Restarting with stat\n"
     ]
    },
    {
     "ename": "SystemExit",
     "evalue": "1",
     "output_type": "error",
     "traceback": [
      "An exception has occurred, use %tb to see the full traceback.\n",
      "\u001b[1;31mSystemExit\u001b[0m\u001b[1;31m:\u001b[0m 1\n"
     ]
    },
    {
     "name": "stderr",
     "output_type": "stream",
     "text": [
      "C:\\Users\\ADMIN\\AppData\\Roaming\\Python\\Python312\\site-packages\\IPython\\core\\interactiveshell.py:3561: UserWarning: To exit: use 'exit', 'quit', or Ctrl-D.\n",
      "  warn(\"To exit: use 'exit', 'quit', or Ctrl-D.\", stacklevel=1)\n"
     ]
    }
   ],
   "source": [
    "from flask import Flask, jsonify, render_template, request, session\n",
    "import google.generativeai as genai\n",
    "from api import Gemini_API_KEY as api\n",
    "import pandas as pd\n",
    "\n",
    "\n",
    "genai.configure(api_key=\"\")\n",
    "model = genai.GenerativeModel('gemini-pro')\n",
    "\n",
    "app = Flask(__name__)\n",
    "\n",
    "model = genai.GenerativeModel('gemini-pro')\n",
    "chat = model.start_chat(history=[])\n",
    "prompt = \"\"\"\n",
    "Your task now is to classify comments as Positive, Negative, or Neutral. \n",
    "\n",
    "The data you will work with is a single string read from a CSV file. Each comment in the string is separated by a semi-colon ';'. \n",
    "\n",
    "Please classify each comment according to the following criteria:\n",
    "- Positive: The comment expresses satisfaction, approval, or a positive sentiment.\n",
    "- Negative: The comment expresses dissatisfaction, disapproval, or a negative sentiment.\n",
    "- Neutral: The comment is neither positive nor negative, and does not express a strong sentiment.\n",
    "\n",
    "Here is the example data string: The product is amazing, I am very satisfied!;\n",
    " Customer service was terrible, I am very disappointed.; The product is okay, nothing special.;\n",
    " I am very pleased with the quality of the product.;\n",
    " Delivery was slow and I couldn’t track the order.; Everything is fine, no complaints.\n",
    "\n",
    "Please provide your classification for each comment in the format:\n",
    "- [{Comment 1: Setiment 1}, {Comment 2: Setiment 2}, ... ]\n",
    "\n",
    "Thank you!\n",
    "\"\"\"\n",
    "chat.send_message(prompt)\n",
    "\n",
    "chat_history = []\n",
    "\n",
    "def read_data(path):\n",
    "    df = pd.read_csv('data/comments.csv')\n",
    "    all_comments = '; '.join(df['Comment'])\n",
    "    return all_comments\n",
    "\n",
    "@app.route('/')\n",
    "def index():\n",
    "    return render_template('chat.html', chat_history=chat_history)\n",
    "\n",
    "@app.route('/chat', methods=['POST'])\n",
    "def chat_endpoint():\n",
    "    try:\n",
    "        user_input = request.json.get('user_input')\n",
    "        print(user_input)\n",
    "        if user_input.endswith(\".csv\"):\n",
    "            data = read_data(user_input)\n",
    "            response = chat.send_message(data)\n",
    "            chat_history.append({\"user\": user_input, \"bot\": response.text})\n",
    "\n",
    "            return jsonify({\"response\": response.text})\n",
    "        elif user_input:\n",
    "            response = chat.send_message(user_input)\n",
    "            chat_history.append({\"user\": user_input, \"bot\": response.text})\n",
    "\n",
    "            return jsonify({\"response\": response.text})\n",
    "        else:\n",
    "            return jsonify({\"error\": \"No user input provided.\"}), 400\n",
    "    except Exception as e:\n",
    "        return jsonify({\"error\": str(e)}), 500\n",
    "\n",
    "if __name__ == '__main__':\n",
    "    app.run(debug=True)\n",
    "\n"
   ]
  },
  {
   "cell_type": "code",
   "execution_count": 31,
   "metadata": {},
   "outputs": [
    {
     "name": "stdout",
     "output_type": "stream",
     "text": [
      "Chào bạn! Hãy bắt đầu trò chuyện với ChatGPT.\n",
      "ChatGPT: Chào bạn, có thể tôi giúp gì cho bạn hôm nay?\n",
      "ChatGPT: Dĩ nhiên, ngày Quốc Khánh của Việt Nam là ngày 2 tháng 9. Đây là ngày kỷ niệm việc độc lập của Việt Nam vào ngày 2 tháng 9 năm 1945.\n",
      "ChatGPT: Một tuần có 7 ngày: Thứ Hai, Thứ Ba, Thứ Tư, Thứ Năm, Thứ Sáu, Thứ Bảy và Chủ Nhật.\n",
      "ChatGPT: Chào bạn, có gì tôi có thể giúp bạn không?\n",
      "ChatGPT: Nếu bạn cần bất kỳ sự trợ giúp nào, đừng ngần ngại để tôi biết! Chúc bạn một ngày tốt lành!\n",
      "ChatGPT: Nếu bạn có bất kỳ câu hỏi hoặc cần trợ giúp nào, đừng ngần ngại để tôi biết. Chúc bạn một ngày vui vẻ!\n"
     ]
    }
   ],
   "source": [
    "from openai import OpenAI\n",
    "\n",
    "# Thay thế 'your-api-key' bằng khóa API của bạn từ OpenAI\n",
    "\n",
    "client = OpenAI(api_key='')\n",
    "def chat_with_gpt(messages):\n",
    "    response = client.chat.completions.create(\n",
    "        model=\"gpt-3.5-turbo\",  # Hoặc mô hình chat khác bạn đang sử dụng\n",
    "        messages=messages,\n",
    "        max_tokens=150,\n",
    "        temperature=0.7\n",
    "    )\n",
    "    return response.choices[0].message.content\n",
    "\n",
    "def continuous_chat():\n",
    "    print(\"Chào bạn! Hãy bắt đầu trò chuyện với ChatGPT.\")\n",
    "    messages = []\n",
    "    while True:\n",
    "        user_input = input(\"Bạn: \")\n",
    "        if user_input.lower() in ['exit', 'quit', 'bye']:\n",
    "            print(\"ChatGPT: Tạm biệt! Hẹn gặp lại.\")\n",
    "            break\n",
    "        messages.append({\"role\": \"user\", \"content\": user_input})\n",
    "        response = chat_with_gpt(messages)\n",
    "        print(f\"ChatGPT: {response}\")\n",
    "        messages.append({\"role\": \"assistant\", \"content\": response})\n",
    "\n",
    "if __name__ == \"__main__\":\n",
    "    continuous_chat()\n"
   ]
  }
 ],
 "metadata": {
  "kernelspec": {
   "display_name": "Python 3",
   "language": "python",
   "name": "python3"
  },
  "language_info": {
   "codemirror_mode": {
    "name": "ipython",
    "version": 3
   },
   "file_extension": ".py",
   "mimetype": "text/x-python",
   "name": "python",
   "nbconvert_exporter": "python",
   "pygments_lexer": "ipython3",
   "version": "3.12.1"
  }
 },
 "nbformat": 4,
 "nbformat_minor": 2
}
