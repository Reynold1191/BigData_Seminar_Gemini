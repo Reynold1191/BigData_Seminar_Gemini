{
 "cells": [
  {
   "cell_type": "code",
   "execution_count": 1,
   "metadata": {},
   "outputs": [],
   "source": [
    "import pandas as pd"
   ]
  },
  {
   "cell_type": "code",
   "execution_count": 2,
   "metadata": {},
   "outputs": [],
   "source": [
    "import pandas as pd\n",
    "\n",
    "data = {\n",
    "    'Comment': [\n",
    "        'The product is amazing, I am very satisfied!',\n",
    "        'Customer service was terrible, I am very disappointed.',\n",
    "        'The product is okay, nothing special.',\n",
    "        'I am very pleased with the quality of the product.',\n",
    "        'Delivery was slow and I couldn’t track the order.',\n",
    "        'Everything is fine, no complaints.'\n",
    "    ],\n",
    "    'Sentiment': [\n",
    "        'Positive',\n",
    "        'Negative',\n",
    "        'Neutral',\n",
    "        'Positive',\n",
    "        'Negative',\n",
    "        'Neutral'\n",
    "    ]\n",
    "}\n",
    "\n",
    "df = pd.DataFrame(data)\n",
    "df.to_csv('data/comments.csv', index=False, encoding='utf-8')\n"
   ]
  },
  {
   "cell_type": "code",
   "execution_count": 5,
   "metadata": {},
   "outputs": [
    {
     "name": "stdout",
     "output_type": "stream",
     "text": [
      "The product is amazing, I am very satisfied!; Customer service was terrible, I am very disappointed.; The product is okay, nothing special.; I am very pleased with the quality of the product.; Delivery was slow and I couldn’t track the order.; Everything is fine, no complaints.\n"
     ]
    }
   ],
   "source": [
    "df = pd.read_csv('data/comments.csv')\n",
    "all_comments = '; '.join(df['Comment'])\n",
    "print(all_comments)"
   ]
  }
 ],
 "metadata": {
  "kernelspec": {
   "display_name": "Python 3",
   "language": "python",
   "name": "python3"
  },
  "language_info": {
   "codemirror_mode": {
    "name": "ipython",
    "version": 3
   },
   "file_extension": ".py",
   "mimetype": "text/x-python",
   "name": "python",
   "nbconvert_exporter": "python",
   "pygments_lexer": "ipython3",
   "version": "3.11.9"
  }
 },
 "nbformat": 4,
 "nbformat_minor": 2
}
